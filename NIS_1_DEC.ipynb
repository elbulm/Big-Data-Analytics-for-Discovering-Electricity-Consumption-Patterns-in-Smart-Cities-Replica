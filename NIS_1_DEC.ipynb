{
  "nbformat": 4,
  "nbformat_minor": 0,
  "metadata": {
    "colab": {
      "provenance": []
    },
    "kernelspec": {
      "name": "python3",
      "display_name": "Python 3"
    },
    "language_info": {
      "name": "python"
    }
  },
  "cells": [
    {
      "cell_type": "code",
      "execution_count": 194,
      "metadata": {
        "id": "L1Zycg26Q_7r"
      },
      "outputs": [],
      "source": [
        "import pandas as pd\n",
        "import numpy as np"
      ]
    },
    {
      "cell_type": "code",
      "source": [
        "df = pd.read_csv(\"data_NIS.csv\")"
      ],
      "metadata": {
        "id": "Ow43iRq8RCRC"
      },
      "execution_count": 195,
      "outputs": []
    },
    {
      "cell_type": "code",
      "source": [
        "df = df.drop(df.columns[df.apply(lambda col: col.isna().sum() > 5)], axis=1)"
      ],
      "metadata": {
        "id": "02wmnsyXmYOz"
      },
      "execution_count": 196,
      "outputs": []
    },
    {
      "cell_type": "code",
      "source": [
        "df['Date'] = df['Date'].astype('datetime64[ns]')"
      ],
      "metadata": {
        "id": "U2dVCkbhsjCk"
      },
      "execution_count": 176,
      "outputs": []
    },
    {
      "cell_type": "code",
      "source": [
        "df.rename(columns = {'Gym.1' : 'Gym', 'Garage.1' : 'Garage'}, inplace = True)"
      ],
      "metadata": {
        "id": "97xafkXZ_upU"
      },
      "execution_count": 177,
      "outputs": []
    },
    {
      "cell_type": "code",
      "source": [
        "df['School'] = df[['School', 'School.1', 'School.2', 'School.3', 'School.4', 'School.5', 'School.10', '(Pre-)School', 'School.12', 'School.14', 'School.20', 'School.25']].mean(axis = 1)\n",
        "df['Other'] = df[['Other.2', 'Other.3', 'Other']].mean(axis = 1)\n",
        "df['Event hall'] = df[['Event hall', 'Event hall.2']].mean(axis = 1)\n",
        "df['Graveyard'] = df[['Graveyard', 'Graveyard.1']].mean(axis = 1)\n",
        "df['Office building'] = df[['Office building', 'Office building.1', 'Office building.4', 'Office building.5', 'Office building.8', 'Office building.9', 'Office building.10', 'Office building.11', 'Office building.13', 'Office building.14', 'Office building.15']].mean(axis = 1)\n",
        "df['Swimming Pool'] = df[['Swimming Pool', 'Swimming Pool.1', 'Swimming Pool.2', 'Swimming Pool.3', 'Swimming Pool.4', 'Swimming Pool.5']].mean(axis = 1)"
      ],
      "metadata": {
        "id": "ucsy-qYZBGvE"
      },
      "execution_count": 179,
      "outputs": []
    },
    {
      "cell_type": "code",
      "source": [
        "base_columns = [\"Garden\",\n",
        "\"School\",\n",
        "\"Other\",\n",
        "\"Zoo\",\n",
        "\"Gym\",\n",
        "\"Event hall\",\n",
        "\"Graveyard\",\n",
        "\"Office building\",\n",
        "\"Swimming Pool\",\n",
        "\"Firefighters\"]\n",
        "\n",
        "agg_cols = []\n",
        "for b_col in base_columns:\n",
        "    for col in df.columns:\n",
        "      if (col.__contains__(b_col) and len(col) != len(b_col)):\n",
        "        agg_cols.append(col)\n",
        "print(agg_cols)"
      ],
      "metadata": {
        "colab": {
          "base_uri": "https://localhost:8080/"
        },
        "id": "qXXch1597dYm",
        "outputId": "f2733873-4428-4171-bf20-95a55ba9ccad"
      },
      "execution_count": 180,
      "outputs": [
        {
          "output_type": "stream",
          "name": "stdout",
          "text": [
            "['School.1', 'School.2', 'School.3', 'School.4', 'School.5', 'School.10', '(Pre-)School', 'School.12', 'School.14', 'School.20', 'School.25', 'Other.2', 'Other.3', 'Event hall.2', 'Graveyard.1', 'Office building.1', 'Office building.4', 'Office building.5', 'Office building.8', 'Office building.9', 'Office building.10', 'Office building.11', 'Office building.13', 'Office building.14', 'Office building.15', 'Swimming Pool.1', 'Swimming Pool.2', 'Swimming Pool.3', 'Swimming Pool.4', 'Swimming Pool.5']\n"
          ]
        }
      ]
    },
    {
      "cell_type": "code",
      "source": [
        "df = df.drop(['School.1', 'School.2', 'School.3', 'School.4', 'School.5', 'School.10', 'School.12', 'School.14', 'School.20', 'School.25', 'Other.2', 'Other.3', 'Event hall.2', 'Graveyard.1', 'Office building.1', 'Office building.4', 'Office building.5', 'Office building.8', 'Office building.9', 'Office building.10', 'Office building.11', 'Office building.13', 'Office building.14', 'Office building.15', 'Swimming Pool.1', 'Swimming Pool.2', 'Swimming Pool.3', 'Swimming Pool.4', 'Swimming Pool.5'], axis=1)"
      ],
      "metadata": {
        "id": "6BtVHK-e6QSZ"
      },
      "execution_count": 181,
      "outputs": []
    },
    {
      "cell_type": "code",
      "source": [
        "df['Date'] = df['Date'].dt.strftime('%Y-%m-%d')"
      ],
      "metadata": {
        "id": "v3ikJ0IMFcKi"
      },
      "execution_count": 182,
      "outputs": []
    },
    {
      "cell_type": "code",
      "source": [
        "dates = df['Date']\n",
        "df = df.groupby(['Date']).transform('mean')\n",
        "dates.reset_index(drop=True, inplace=True)\n",
        "df.reset_index(drop=True, inplace=True)\n",
        "df = pd.concat([dates, df], axis = 1)\n",
        "df = df.drop_duplicates()"
      ],
      "metadata": {
        "id": "pwApHtZ8GtP2"
      },
      "execution_count": 183,
      "outputs": []
    },
    {
      "cell_type": "code",
      "source": [
        "df"
      ],
      "metadata": {
        "colab": {
          "base_uri": "https://localhost:8080/",
          "height": 424
        },
        "id": "TVnogv7rIzBa",
        "outputId": "a1ef6aa5-8554-49f9-b725-eb2c33b96b03"
      },
      "execution_count": 184,
      "outputs": [
        {
          "output_type": "execute_result",
          "data": {
            "text/plain": [
              "             Date     Garden     School      Other        Zoo  Event hall  \\\n",
              "0      2013-01-01   6.631579  11.493140  25.955439  78.084211   21.328947   \n",
              "95     2013-02-01   6.884375  13.558236  38.690972  83.937500   22.767708   \n",
              "191    2013-03-01   7.569792  13.971753  36.526736  81.729167   22.757292   \n",
              "287    2013-04-01   7.114583  14.224115  61.752778  82.208333   26.968750   \n",
              "383    2013-05-01   6.623958  12.417615  25.813194  80.270833   30.884375   \n",
              "...           ...        ...        ...        ...        ...         ...   \n",
              "77951  2015-03-24  19.267708  18.389090  38.637500  65.020833   23.915104   \n",
              "78047  2015-03-25  20.689583  17.807580  37.002431  71.104167   23.521354   \n",
              "78143  2015-03-26  15.231250  20.321906  39.818056  71.041667   27.792188   \n",
              "78239  2015-03-27  20.145833  16.658500  33.818750  67.958333   24.621875   \n",
              "78335  2015-03-28  13.343548   9.642978  28.984409  64.709677   22.800806   \n",
              "\n",
              "       Graveyard  Office building  Swimming Pool        Gym  Firefighters  \\\n",
              "0      14.165789        23.288077      21.191579   4.420000     11.532632   \n",
              "95     22.724479        31.725587      33.264931   4.354167     17.405208   \n",
              "191    22.181250        34.129833      33.833333   6.559375     15.608333   \n",
              "287    22.616146        32.164114      35.108333   8.411458     16.414583   \n",
              "383    13.864063        25.165114      34.244097  18.732292     18.108333   \n",
              "...          ...              ...            ...        ...           ...   \n",
              "77951  18.157292        35.359307      33.547917   9.008333     15.304167   \n",
              "78047  18.815104        34.853295      31.665278   9.966667     15.259375   \n",
              "78143  19.823958        37.066356      33.741840   8.129167     17.952083   \n",
              "78239  19.103646        33.378936      32.953819   5.803125     14.995833   \n",
              "78335  10.659677        21.280674      28.128495   3.537097     14.664516   \n",
              "\n",
              "       (Pre-)School     Garage  \n",
              "0         11.151579  48.378947  \n",
              "95        15.742708  80.270833  \n",
              "191       18.354167  83.770833  \n",
              "287       15.637500  79.270833  \n",
              "383       13.404167  36.458333  \n",
              "...             ...        ...  \n",
              "77951     17.606250  34.875000  \n",
              "78047     16.077083  35.333333  \n",
              "78143     20.140625  60.875000  \n",
              "78239     13.881250  38.875000  \n",
              "78335      9.646774  17.806452  \n",
              "\n",
              "[817 rows x 13 columns]"
            ],
            "text/html": [
              "\n",
              "  <div id=\"df-a75c8fb9-5c60-45dd-897b-c31db7f5129b\">\n",
              "    <div class=\"colab-df-container\">\n",
              "      <div>\n",
              "<style scoped>\n",
              "    .dataframe tbody tr th:only-of-type {\n",
              "        vertical-align: middle;\n",
              "    }\n",
              "\n",
              "    .dataframe tbody tr th {\n",
              "        vertical-align: top;\n",
              "    }\n",
              "\n",
              "    .dataframe thead th {\n",
              "        text-align: right;\n",
              "    }\n",
              "</style>\n",
              "<table border=\"1\" class=\"dataframe\">\n",
              "  <thead>\n",
              "    <tr style=\"text-align: right;\">\n",
              "      <th></th>\n",
              "      <th>Date</th>\n",
              "      <th>Garden</th>\n",
              "      <th>School</th>\n",
              "      <th>Other</th>\n",
              "      <th>Zoo</th>\n",
              "      <th>Event hall</th>\n",
              "      <th>Graveyard</th>\n",
              "      <th>Office building</th>\n",
              "      <th>Swimming Pool</th>\n",
              "      <th>Gym</th>\n",
              "      <th>Firefighters</th>\n",
              "      <th>(Pre-)School</th>\n",
              "      <th>Garage</th>\n",
              "    </tr>\n",
              "  </thead>\n",
              "  <tbody>\n",
              "    <tr>\n",
              "      <th>0</th>\n",
              "      <td>2013-01-01</td>\n",
              "      <td>6.631579</td>\n",
              "      <td>11.493140</td>\n",
              "      <td>25.955439</td>\n",
              "      <td>78.084211</td>\n",
              "      <td>21.328947</td>\n",
              "      <td>14.165789</td>\n",
              "      <td>23.288077</td>\n",
              "      <td>21.191579</td>\n",
              "      <td>4.420000</td>\n",
              "      <td>11.532632</td>\n",
              "      <td>11.151579</td>\n",
              "      <td>48.378947</td>\n",
              "    </tr>\n",
              "    <tr>\n",
              "      <th>95</th>\n",
              "      <td>2013-02-01</td>\n",
              "      <td>6.884375</td>\n",
              "      <td>13.558236</td>\n",
              "      <td>38.690972</td>\n",
              "      <td>83.937500</td>\n",
              "      <td>22.767708</td>\n",
              "      <td>22.724479</td>\n",
              "      <td>31.725587</td>\n",
              "      <td>33.264931</td>\n",
              "      <td>4.354167</td>\n",
              "      <td>17.405208</td>\n",
              "      <td>15.742708</td>\n",
              "      <td>80.270833</td>\n",
              "    </tr>\n",
              "    <tr>\n",
              "      <th>191</th>\n",
              "      <td>2013-03-01</td>\n",
              "      <td>7.569792</td>\n",
              "      <td>13.971753</td>\n",
              "      <td>36.526736</td>\n",
              "      <td>81.729167</td>\n",
              "      <td>22.757292</td>\n",
              "      <td>22.181250</td>\n",
              "      <td>34.129833</td>\n",
              "      <td>33.833333</td>\n",
              "      <td>6.559375</td>\n",
              "      <td>15.608333</td>\n",
              "      <td>18.354167</td>\n",
              "      <td>83.770833</td>\n",
              "    </tr>\n",
              "    <tr>\n",
              "      <th>287</th>\n",
              "      <td>2013-04-01</td>\n",
              "      <td>7.114583</td>\n",
              "      <td>14.224115</td>\n",
              "      <td>61.752778</td>\n",
              "      <td>82.208333</td>\n",
              "      <td>26.968750</td>\n",
              "      <td>22.616146</td>\n",
              "      <td>32.164114</td>\n",
              "      <td>35.108333</td>\n",
              "      <td>8.411458</td>\n",
              "      <td>16.414583</td>\n",
              "      <td>15.637500</td>\n",
              "      <td>79.270833</td>\n",
              "    </tr>\n",
              "    <tr>\n",
              "      <th>383</th>\n",
              "      <td>2013-05-01</td>\n",
              "      <td>6.623958</td>\n",
              "      <td>12.417615</td>\n",
              "      <td>25.813194</td>\n",
              "      <td>80.270833</td>\n",
              "      <td>30.884375</td>\n",
              "      <td>13.864063</td>\n",
              "      <td>25.165114</td>\n",
              "      <td>34.244097</td>\n",
              "      <td>18.732292</td>\n",
              "      <td>18.108333</td>\n",
              "      <td>13.404167</td>\n",
              "      <td>36.458333</td>\n",
              "    </tr>\n",
              "    <tr>\n",
              "      <th>...</th>\n",
              "      <td>...</td>\n",
              "      <td>...</td>\n",
              "      <td>...</td>\n",
              "      <td>...</td>\n",
              "      <td>...</td>\n",
              "      <td>...</td>\n",
              "      <td>...</td>\n",
              "      <td>...</td>\n",
              "      <td>...</td>\n",
              "      <td>...</td>\n",
              "      <td>...</td>\n",
              "      <td>...</td>\n",
              "      <td>...</td>\n",
              "    </tr>\n",
              "    <tr>\n",
              "      <th>77951</th>\n",
              "      <td>2015-03-24</td>\n",
              "      <td>19.267708</td>\n",
              "      <td>18.389090</td>\n",
              "      <td>38.637500</td>\n",
              "      <td>65.020833</td>\n",
              "      <td>23.915104</td>\n",
              "      <td>18.157292</td>\n",
              "      <td>35.359307</td>\n",
              "      <td>33.547917</td>\n",
              "      <td>9.008333</td>\n",
              "      <td>15.304167</td>\n",
              "      <td>17.606250</td>\n",
              "      <td>34.875000</td>\n",
              "    </tr>\n",
              "    <tr>\n",
              "      <th>78047</th>\n",
              "      <td>2015-03-25</td>\n",
              "      <td>20.689583</td>\n",
              "      <td>17.807580</td>\n",
              "      <td>37.002431</td>\n",
              "      <td>71.104167</td>\n",
              "      <td>23.521354</td>\n",
              "      <td>18.815104</td>\n",
              "      <td>34.853295</td>\n",
              "      <td>31.665278</td>\n",
              "      <td>9.966667</td>\n",
              "      <td>15.259375</td>\n",
              "      <td>16.077083</td>\n",
              "      <td>35.333333</td>\n",
              "    </tr>\n",
              "    <tr>\n",
              "      <th>78143</th>\n",
              "      <td>2015-03-26</td>\n",
              "      <td>15.231250</td>\n",
              "      <td>20.321906</td>\n",
              "      <td>39.818056</td>\n",
              "      <td>71.041667</td>\n",
              "      <td>27.792188</td>\n",
              "      <td>19.823958</td>\n",
              "      <td>37.066356</td>\n",
              "      <td>33.741840</td>\n",
              "      <td>8.129167</td>\n",
              "      <td>17.952083</td>\n",
              "      <td>20.140625</td>\n",
              "      <td>60.875000</td>\n",
              "    </tr>\n",
              "    <tr>\n",
              "      <th>78239</th>\n",
              "      <td>2015-03-27</td>\n",
              "      <td>20.145833</td>\n",
              "      <td>16.658500</td>\n",
              "      <td>33.818750</td>\n",
              "      <td>67.958333</td>\n",
              "      <td>24.621875</td>\n",
              "      <td>19.103646</td>\n",
              "      <td>33.378936</td>\n",
              "      <td>32.953819</td>\n",
              "      <td>5.803125</td>\n",
              "      <td>14.995833</td>\n",
              "      <td>13.881250</td>\n",
              "      <td>38.875000</td>\n",
              "    </tr>\n",
              "    <tr>\n",
              "      <th>78335</th>\n",
              "      <td>2015-03-28</td>\n",
              "      <td>13.343548</td>\n",
              "      <td>9.642978</td>\n",
              "      <td>28.984409</td>\n",
              "      <td>64.709677</td>\n",
              "      <td>22.800806</td>\n",
              "      <td>10.659677</td>\n",
              "      <td>21.280674</td>\n",
              "      <td>28.128495</td>\n",
              "      <td>3.537097</td>\n",
              "      <td>14.664516</td>\n",
              "      <td>9.646774</td>\n",
              "      <td>17.806452</td>\n",
              "    </tr>\n",
              "  </tbody>\n",
              "</table>\n",
              "<p>817 rows × 13 columns</p>\n",
              "</div>\n",
              "      <button class=\"colab-df-convert\" onclick=\"convertToInteractive('df-a75c8fb9-5c60-45dd-897b-c31db7f5129b')\"\n",
              "              title=\"Convert this dataframe to an interactive table.\"\n",
              "              style=\"display:none;\">\n",
              "        \n",
              "  <svg xmlns=\"http://www.w3.org/2000/svg\" height=\"24px\"viewBox=\"0 0 24 24\"\n",
              "       width=\"24px\">\n",
              "    <path d=\"M0 0h24v24H0V0z\" fill=\"none\"/>\n",
              "    <path d=\"M18.56 5.44l.94 2.06.94-2.06 2.06-.94-2.06-.94-.94-2.06-.94 2.06-2.06.94zm-11 1L8.5 8.5l.94-2.06 2.06-.94-2.06-.94L8.5 2.5l-.94 2.06-2.06.94zm10 10l.94 2.06.94-2.06 2.06-.94-2.06-.94-.94-2.06-.94 2.06-2.06.94z\"/><path d=\"M17.41 7.96l-1.37-1.37c-.4-.4-.92-.59-1.43-.59-.52 0-1.04.2-1.43.59L10.3 9.45l-7.72 7.72c-.78.78-.78 2.05 0 2.83L4 21.41c.39.39.9.59 1.41.59.51 0 1.02-.2 1.41-.59l7.78-7.78 2.81-2.81c.8-.78.8-2.07 0-2.86zM5.41 20L4 18.59l7.72-7.72 1.47 1.35L5.41 20z\"/>\n",
              "  </svg>\n",
              "      </button>\n",
              "      \n",
              "  <style>\n",
              "    .colab-df-container {\n",
              "      display:flex;\n",
              "      flex-wrap:wrap;\n",
              "      gap: 12px;\n",
              "    }\n",
              "\n",
              "    .colab-df-convert {\n",
              "      background-color: #E8F0FE;\n",
              "      border: none;\n",
              "      border-radius: 50%;\n",
              "      cursor: pointer;\n",
              "      display: none;\n",
              "      fill: #1967D2;\n",
              "      height: 32px;\n",
              "      padding: 0 0 0 0;\n",
              "      width: 32px;\n",
              "    }\n",
              "\n",
              "    .colab-df-convert:hover {\n",
              "      background-color: #E2EBFA;\n",
              "      box-shadow: 0px 1px 2px rgba(60, 64, 67, 0.3), 0px 1px 3px 1px rgba(60, 64, 67, 0.15);\n",
              "      fill: #174EA6;\n",
              "    }\n",
              "\n",
              "    [theme=dark] .colab-df-convert {\n",
              "      background-color: #3B4455;\n",
              "      fill: #D2E3FC;\n",
              "    }\n",
              "\n",
              "    [theme=dark] .colab-df-convert:hover {\n",
              "      background-color: #434B5C;\n",
              "      box-shadow: 0px 1px 3px 1px rgba(0, 0, 0, 0.15);\n",
              "      filter: drop-shadow(0px 1px 2px rgba(0, 0, 0, 0.3));\n",
              "      fill: #FFFFFF;\n",
              "    }\n",
              "  </style>\n",
              "\n",
              "      <script>\n",
              "        const buttonEl =\n",
              "          document.querySelector('#df-a75c8fb9-5c60-45dd-897b-c31db7f5129b button.colab-df-convert');\n",
              "        buttonEl.style.display =\n",
              "          google.colab.kernel.accessAllowed ? 'block' : 'none';\n",
              "\n",
              "        async function convertToInteractive(key) {\n",
              "          const element = document.querySelector('#df-a75c8fb9-5c60-45dd-897b-c31db7f5129b');\n",
              "          const dataTable =\n",
              "            await google.colab.kernel.invokeFunction('convertToInteractive',\n",
              "                                                     [key], {});\n",
              "          if (!dataTable) return;\n",
              "\n",
              "          const docLinkHtml = 'Like what you see? Visit the ' +\n",
              "            '<a target=\"_blank\" href=https://colab.research.google.com/notebooks/data_table.ipynb>data table notebook</a>'\n",
              "            + ' to learn more about interactive tables.';\n",
              "          element.innerHTML = '';\n",
              "          dataTable['output_type'] = 'display_data';\n",
              "          await google.colab.output.renderOutput(dataTable, element);\n",
              "          const docLink = document.createElement('div');\n",
              "          docLink.innerHTML = docLinkHtml;\n",
              "          element.appendChild(docLink);\n",
              "        }\n",
              "      </script>\n",
              "    </div>\n",
              "  </div>\n",
              "  "
            ]
          },
          "metadata": {},
          "execution_count": 184
        }
      ]
    },
    {
      "cell_type": "code",
      "source": [
        "X = df.drop(['Date'], axis = 1)"
      ],
      "metadata": {
        "id": "HZzCHK--STa6"
      },
      "execution_count": 185,
      "outputs": []
    },
    {
      "cell_type": "markdown",
      "source": [
        "Ищем оптимальное K"
      ],
      "metadata": {
        "id": "xhICpJ32LIhG"
      }
    },
    {
      "cell_type": "code",
      "source": [
        "import matplotlib.pyplot as plt\n",
        "from sklearn.cluster import KMeans\n",
        "from sklearn.metrics import silhouette_score\n",
        "k = [2, 3, 4, 5, 6, 7, 8, 9, 10, 11, 12, 13, 14, 15]\n",
        "score=[]\n",
        "for n_cluster in k:\n",
        "    kmeans = KMeans(n_clusters=n_cluster).fit(X)\n",
        "    silhouette_avg = silhouette_score(X,kmeans.labels_)\n",
        "    score.append(silhouette_score(X,kmeans.labels_))\n",
        "    print('Silhouette Score for %i Clusters: %0.4f' % (n_cluster, silhouette_avg))"
      ],
      "metadata": {
        "colab": {
          "base_uri": "https://localhost:8080/"
        },
        "id": "tDB13BD4KSdn",
        "outputId": "1a35cb87-2f8c-4ee7-b8f6-423844fbc54e"
      },
      "execution_count": 189,
      "outputs": [
        {
          "output_type": "stream",
          "name": "stdout",
          "text": [
            "Silhouette Score for 2 Clusters: 0.3684\n",
            "Silhouette Score for 3 Clusters: 0.3885\n",
            "Silhouette Score for 4 Clusters: 0.3201\n",
            "Silhouette Score for 5 Clusters: 0.2529\n",
            "Silhouette Score for 6 Clusters: 0.2686\n",
            "Silhouette Score for 7 Clusters: 0.2526\n",
            "Silhouette Score for 8 Clusters: 0.2443\n",
            "Silhouette Score for 9 Clusters: 0.2514\n",
            "Silhouette Score for 10 Clusters: 0.2421\n",
            "Silhouette Score for 11 Clusters: 0.2386\n",
            "Silhouette Score for 12 Clusters: 0.2134\n",
            "Silhouette Score for 13 Clusters: 0.2207\n",
            "Silhouette Score for 14 Clusters: 0.2163\n",
            "Silhouette Score for 15 Clusters: 0.2134\n"
          ]
        }
      ]
    },
    {
      "cell_type": "code",
      "source": [
        "plt.figure(figsize=(20, 15))\n",
        "plt.plot(k, score, 'o-')\n",
        "plt.xlabel(\"Value for k\")\n",
        "plt.ylabel(\"Silhouette score\")\n",
        "plt.show()"
      ],
      "metadata": {
        "colab": {
          "base_uri": "https://localhost:8080/",
          "height": 877
        },
        "id": "7N68bpUjSd4m",
        "outputId": "cd48d215-4b64-41cc-8fc5-b90ca991403b"
      },
      "execution_count": 204,
      "outputs": [
        {
          "output_type": "display_data",
          "data": {
            "text/plain": [
              "<Figure size 1440x1080 with 1 Axes>"
            ],
            "image/png": "[encoded data removed]"
          },
          "metadata": {
            "needs_background": "light"
          }
        }
      ]
    },
    {
      "cell_type": "code",
      "source": [
        "def drawSSEPlot(df, column_indices, n_clusters=8, max_iter=300, tol=1e-04, init='k-means++', n_init=10, algorithm='auto'):\n",
        "    import matplotlib.pyplot as plt\n",
        "    inertia_values = []\n",
        "    for i in range(2, 15):\n",
        "        km = KMeans(n_clusters=i, max_iter=max_iter, tol=tol, init=init, n_init=n_init, random_state=1, algorithm=algorithm)\n",
        "        km.fit_predict(df.iloc[:, column_indices])\n",
        "        inertia_values.append(km.inertia_)\n",
        "    fig, ax = plt.subplots(figsize=(20, 15))\n",
        "    plt.plot(range(2, 15), inertia_values, color='red')\n",
        "    plt.xlabel('No. of Clusters', fontsize=15)\n",
        "    plt.ylabel('WSSSE', fontsize=15)\n",
        "    plt.grid()\n",
        "    plt.show()"
      ],
      "metadata": {
        "id": "As2GurgJSgx-"
      },
      "execution_count": 226,
      "outputs": []
    },
    {
      "cell_type": "code",
      "source": [
        "drawSSEPlot(X, [0, 1, 2, 3, 4, 5, 6, 7, 8, 9, 10, 11])"
      ],
      "metadata": {
        "colab": {
          "base_uri": "https://localhost:8080/",
          "height": 882
        },
        "id": "pOCf82wJWQOO",
        "outputId": "ca3d3717-e104-42d3-97de-08115625bb68"
      },
      "execution_count": 227,
      "outputs": [
        {
          "output_type": "display_data",
          "data": {
            "text/plain": [
              "<Figure size 1440x1080 with 1 Axes>"
            ],
            "image/png": "[encoded data removed]"
          },
          "metadata": {
            "needs_background": "light"
          }
        }
      ]
    },
    {
      "cell_type": "code",
      "source": [
        "from sklearn.metrics import davies_bouldin_score\n",
        "\n",
        "results = {}\n",
        "\n",
        "for i in range(2,15):\n",
        "    kmeans = KMeans(n_clusters=i, random_state=30)\n",
        "    labels = kmeans.fit_predict(X)\n",
        "    db_index = davies_bouldin_score(X, labels)\n",
        "    results.update({i: db_index})\n",
        "\n",
        "plt.figure(figsize=(20, 15))\n",
        "plt.plot(list(results.keys()), list(results.values()))\n",
        "plt.xlabel(\"Number of clusters\")\n",
        "plt.ylabel(\"Davies-Boulding Index\")\n",
        "plt.show()"
      ],
      "metadata": {
        "colab": {
          "base_uri": "https://localhost:8080/",
          "height": 877
        },
        "id": "_u5nW3BPWmmg",
        "outputId": "b7e3799b-1769-4c86-e41e-4bbcb372ff0e"
      },
      "execution_count": 221,
      "outputs": [
        {
          "output_type": "display_data",
          "data": {
            "text/plain": [
              "<Figure size 1440x1080 with 1 Axes>"
            ],
            "image/png": "[encoded data removed]"
          },
          "metadata": {
            "needs_background": "light"
          }
        }
      ]
    },
    {
      "cell_type": "markdown",
      "source": [
        "Таблица результаты"
      ],
      "metadata": {
        "id": "P462UOuCbHwX"
      }
    },
    {
      "cell_type": "code",
      "source": [
        "kmeans_model = KMeans(n_clusters = 3, random_state = 1).fit(X)\n",
        "\n",
        "X['kmean 3'] = kmeans_model.labels_\n",
        "\n",
        "X_3 = pd.DataFrame(X['kmean 3'].value_counts())\n",
        "X_3['perc'] = 100*X_3['kmean 3']/sum(X_3['kmean 3'])"
      ],
      "metadata": {
        "id": "XyreDAl7ZiDf"
      },
      "execution_count": 233,
      "outputs": []
    },
    {
      "cell_type": "code",
      "source": [
        "X_3"
      ],
      "metadata": {
        "colab": {
          "base_uri": "https://localhost:8080/",
          "height": 143
        },
        "id": "zVdEBc-4e4Y-",
        "outputId": "bd0d52e8-d827-484e-c376-38cb5dd10759"
      },
      "execution_count": 234,
      "outputs": [
        {
          "output_type": "execute_result",
          "data": {
            "text/plain": [
              "   kmean 3       perc\n",
              "1      303  37.086903\n",
              "2      274  33.537332\n",
              "0      240  29.375765"
            ],
            "text/html": [
              "\n",
              "  <div id=\"df-a7e03b7d-d600-4bf2-aa9f-83428b875197\">\n",
              "    <div class=\"colab-df-container\">\n",
              "      <div>\n",
              "<style scoped>\n",
              "    .dataframe tbody tr th:only-of-type {\n",
              "        vertical-align: middle;\n",
              "    }\n",
              "\n",
              "    .dataframe tbody tr th {\n",
              "        vertical-align: top;\n",
              "    }\n",
              "\n",
              "    .dataframe thead th {\n",
              "        text-align: right;\n",
              "    }\n",
              "</style>\n",
              "<table border=\"1\" class=\"dataframe\">\n",
              "  <thead>\n",
              "    <tr style=\"text-align: right;\">\n",
              "      <th></th>\n",
              "      <th>kmean 3</th>\n",
              "      <th>perc</th>\n",
              "    </tr>\n",
              "  </thead>\n",
              "  <tbody>\n",
              "    <tr>\n",
              "      <th>1</th>\n",
              "      <td>303</td>\n",
              "      <td>37.086903</td>\n",
              "    </tr>\n",
              "    <tr>\n",
              "      <th>2</th>\n",
              "      <td>274</td>\n",
              "      <td>33.537332</td>\n",
              "    </tr>\n",
              "    <tr>\n",
              "      <th>0</th>\n",
              "      <td>240</td>\n",
              "      <td>29.375765</td>\n",
              "    </tr>\n",
              "  </tbody>\n",
              "</table>\n",
              "</div>\n",
              "      <button class=\"colab-df-convert\" onclick=\"convertToInteractive('df-a7e03b7d-d600-4bf2-aa9f-83428b875197')\"\n",
              "              title=\"Convert this dataframe to an interactive table.\"\n",
              "              style=\"display:none;\">\n",
              "        \n",
              "  <svg xmlns=\"http://www.w3.org/2000/svg\" height=\"24px\"viewBox=\"0 0 24 24\"\n",
              "       width=\"24px\">\n",
              "    <path d=\"M0 0h24v24H0V0z\" fill=\"none\"/>\n",
              "    <path d=\"M18.56 5.44l.94 2.06.94-2.06 2.06-.94-2.06-.94-.94-2.06-.94 2.06-2.06.94zm-11 1L8.5 8.5l.94-2.06 2.06-.94-2.06-.94L8.5 2.5l-.94 2.06-2.06.94zm10 10l.94 2.06.94-2.06 2.06-.94-2.06-.94-.94-2.06-.94 2.06-2.06.94z\"/><path d=\"M17.41 7.96l-1.37-1.37c-.4-.4-.92-.59-1.43-.59-.52 0-1.04.2-1.43.59L10.3 9.45l-7.72 7.72c-.78.78-.78 2.05 0 2.83L4 21.41c.39.39.9.59 1.41.59.51 0 1.02-.2 1.41-.59l7.78-7.78 2.81-2.81c.8-.78.8-2.07 0-2.86zM5.41 20L4 18.59l7.72-7.72 1.47 1.35L5.41 20z\"/>\n",
              "  </svg>\n",
              "      </button>\n",
              "      \n",
              "  <style>\n",
              "    .colab-df-container {\n",
              "      display:flex;\n",
              "      flex-wrap:wrap;\n",
              "      gap: 12px;\n",
              "    }\n",
              "\n",
              "    .colab-df-convert {\n",
              "      background-color: #E8F0FE;\n",
              "      border: none;\n",
              "      border-radius: 50%;\n",
              "      cursor: pointer;\n",
              "      display: none;\n",
              "      fill: #1967D2;\n",
              "      height: 32px;\n",
              "      padding: 0 0 0 0;\n",
              "      width: 32px;\n",
              "    }\n",
              "\n",
              "    .colab-df-convert:hover {\n",
              "      background-color: #E2EBFA;\n",
              "      box-shadow: 0px 1px 2px rgba(60, 64, 67, 0.3), 0px 1px 3px 1px rgba(60, 64, 67, 0.15);\n",
              "      fill: #174EA6;\n",
              "    }\n",
              "\n",
              "    [theme=dark] .colab-df-convert {\n",
              "      background-color: #3B4455;\n",
              "      fill: #D2E3FC;\n",
              "    }\n",
              "\n",
              "    [theme=dark] .colab-df-convert:hover {\n",
              "      background-color: #434B5C;\n",
              "      box-shadow: 0px 1px 3px 1px rgba(0, 0, 0, 0.15);\n",
              "      filter: drop-shadow(0px 1px 2px rgba(0, 0, 0, 0.3));\n",
              "      fill: #FFFFFF;\n",
              "    }\n",
              "  </style>\n",
              "\n",
              "      <script>\n",
              "        const buttonEl =\n",
              "          document.querySelector('#df-a7e03b7d-d600-4bf2-aa9f-83428b875197 button.colab-df-convert');\n",
              "        buttonEl.style.display =\n",
              "          google.colab.kernel.accessAllowed ? 'block' : 'none';\n",
              "\n",
              "        async function convertToInteractive(key) {\n",
              "          const element = document.querySelector('#df-a7e03b7d-d600-4bf2-aa9f-83428b875197');\n",
              "          const dataTable =\n",
              "            await google.colab.kernel.invokeFunction('convertToInteractive',\n",
              "                                                     [key], {});\n",
              "          if (!dataTable) return;\n",
              "\n",
              "          const docLinkHtml = 'Like what you see? Visit the ' +\n",
              "            '<a target=\"_blank\" href=https://colab.research.google.com/notebooks/data_table.ipynb>data table notebook</a>'\n",
              "            + ' to learn more about interactive tables.';\n",
              "          element.innerHTML = '';\n",
              "          dataTable['output_type'] = 'display_data';\n",
              "          await google.colab.output.renderOutput(dataTable, element);\n",
              "          const docLink = document.createElement('div');\n",
              "          docLink.innerHTML = docLinkHtml;\n",
              "          element.appendChild(docLink);\n",
              "        }\n",
              "      </script>\n",
              "    </div>\n",
              "  </div>\n",
              "  "
            ]
          },
          "metadata": {},
          "execution_count": 234
        }
      ]
    },
    {
      "cell_type": "code",
      "source": [
        "kmeans_model = KMeans(n_clusters = 9, random_state = 1).fit(X)\n",
        "\n",
        "X['kmean 9'] = kmeans_model.labels_\n",
        "\n",
        "X_9 = pd.DataFrame(X['kmean 9'].value_counts())\n",
        "X_9['perc'] = 100*X_9['kmean 9']/sum(X_9['kmean 9'])"
      ],
      "metadata": {
        "id": "GBKyvQKUdu9v"
      },
      "execution_count": 235,
      "outputs": []
    },
    {
      "cell_type": "code",
      "source": [
        "X_9"
      ],
      "metadata": {
        "colab": {
          "base_uri": "https://localhost:8080/",
          "height": 331
        },
        "id": "7K77puTEdx1Q",
        "outputId": "1a8d60c9-040f-4227-8d71-d371afffea2f"
      },
      "execution_count": 236,
      "outputs": [
        {
          "output_type": "execute_result",
          "data": {
            "text/plain": [
              "   kmean 9       perc\n",
              "3      124  15.177479\n",
              "0      122  14.932681\n",
              "1      108  13.219094\n",
              "8      100  12.239902\n",
              "4       90  11.015912\n",
              "2       89  10.893513\n",
              "5       83  10.159119\n",
              "7       68   8.323133\n",
              "6       33   4.039168"
            ],
            "text/html": [
              "\n",
              "  <div id=\"df-6085f674-abee-4ff6-8684-f8d40cbef7bf\">\n",
              "    <div class=\"colab-df-container\">\n",
              "      <div>\n",
              "<style scoped>\n",
              "    .dataframe tbody tr th:only-of-type {\n",
              "        vertical-align: middle;\n",
              "    }\n",
              "\n",
              "    .dataframe tbody tr th {\n",
              "        vertical-align: top;\n",
              "    }\n",
              "\n",
              "    .dataframe thead th {\n",
              "        text-align: right;\n",
              "    }\n",
              "</style>\n",
              "<table border=\"1\" class=\"dataframe\">\n",
              "  <thead>\n",
              "    <tr style=\"text-align: right;\">\n",
              "      <th></th>\n",
              "      <th>kmean 9</th>\n",
              "      <th>perc</th>\n",
              "    </tr>\n",
              "  </thead>\n",
              "  <tbody>\n",
              "    <tr>\n",
              "      <th>3</th>\n",
              "      <td>124</td>\n",
              "      <td>15.177479</td>\n",
              "    </tr>\n",
              "    <tr>\n",
              "      <th>0</th>\n",
              "      <td>122</td>\n",
              "      <td>14.932681</td>\n",
              "    </tr>\n",
              "    <tr>\n",
              "      <th>1</th>\n",
              "      <td>108</td>\n",
              "      <td>13.219094</td>\n",
              "    </tr>\n",
              "    <tr>\n",
              "      <th>8</th>\n",
              "      <td>100</td>\n",
              "      <td>12.239902</td>\n",
              "    </tr>\n",
              "    <tr>\n",
              "      <th>4</th>\n",
              "      <td>90</td>\n",
              "      <td>11.015912</td>\n",
              "    </tr>\n",
              "    <tr>\n",
              "      <th>2</th>\n",
              "      <td>89</td>\n",
              "      <td>10.893513</td>\n",
              "    </tr>\n",
              "    <tr>\n",
              "      <th>5</th>\n",
              "      <td>83</td>\n",
              "      <td>10.159119</td>\n",
              "    </tr>\n",
              "    <tr>\n",
              "      <th>7</th>\n",
              "      <td>68</td>\n",
              "      <td>8.323133</td>\n",
              "    </tr>\n",
              "    <tr>\n",
              "      <th>6</th>\n",
              "      <td>33</td>\n",
              "      <td>4.039168</td>\n",
              "    </tr>\n",
              "  </tbody>\n",
              "</table>\n",
              "</div>\n",
              "      <button class=\"colab-df-convert\" onclick=\"convertToInteractive('df-6085f674-abee-4ff6-8684-f8d40cbef7bf')\"\n",
              "              title=\"Convert this dataframe to an interactive table.\"\n",
              "              style=\"display:none;\">\n",
              "        \n",
              "  <svg xmlns=\"http://www.w3.org/2000/svg\" height=\"24px\"viewBox=\"0 0 24 24\"\n",
              "       width=\"24px\">\n",
              "    <path d=\"M0 0h24v24H0V0z\" fill=\"none\"/>\n",
              "    <path d=\"M18.56 5.44l.94 2.06.94-2.06 2.06-.94-2.06-.94-.94-2.06-.94 2.06-2.06.94zm-11 1L8.5 8.5l.94-2.06 2.06-.94-2.06-.94L8.5 2.5l-.94 2.06-2.06.94zm10 10l.94 2.06.94-2.06 2.06-.94-2.06-.94-.94-2.06-.94 2.06-2.06.94z\"/><path d=\"M17.41 7.96l-1.37-1.37c-.4-.4-.92-.59-1.43-.59-.52 0-1.04.2-1.43.59L10.3 9.45l-7.72 7.72c-.78.78-.78 2.05 0 2.83L4 21.41c.39.39.9.59 1.41.59.51 0 1.02-.2 1.41-.59l7.78-7.78 2.81-2.81c.8-.78.8-2.07 0-2.86zM5.41 20L4 18.59l7.72-7.72 1.47 1.35L5.41 20z\"/>\n",
              "  </svg>\n",
              "      </button>\n",
              "      \n",
              "  <style>\n",
              "    .colab-df-container {\n",
              "      display:flex;\n",
              "      flex-wrap:wrap;\n",
              "      gap: 12px;\n",
              "    }\n",
              "\n",
              "    .colab-df-convert {\n",
              "      background-color: #E8F0FE;\n",
              "      border: none;\n",
              "      border-radius: 50%;\n",
              "      cursor: pointer;\n",
              "      display: none;\n",
              "      fill: #1967D2;\n",
              "      height: 32px;\n",
              "      padding: 0 0 0 0;\n",
              "      width: 32px;\n",
              "    }\n",
              "\n",
              "    .colab-df-convert:hover {\n",
              "      background-color: #E2EBFA;\n",
              "      box-shadow: 0px 1px 2px rgba(60, 64, 67, 0.3), 0px 1px 3px 1px rgba(60, 64, 67, 0.15);\n",
              "      fill: #174EA6;\n",
              "    }\n",
              "\n",
              "    [theme=dark] .colab-df-convert {\n",
              "      background-color: #3B4455;\n",
              "      fill: #D2E3FC;\n",
              "    }\n",
              "\n",
              "    [theme=dark] .colab-df-convert:hover {\n",
              "      background-color: #434B5C;\n",
              "      box-shadow: 0px 1px 3px 1px rgba(0, 0, 0, 0.15);\n",
              "      filter: drop-shadow(0px 1px 2px rgba(0, 0, 0, 0.3));\n",
              "      fill: #FFFFFF;\n",
              "    }\n",
              "  </style>\n",
              "\n",
              "      <script>\n",
              "        const buttonEl =\n",
              "          document.querySelector('#df-6085f674-abee-4ff6-8684-f8d40cbef7bf button.colab-df-convert');\n",
              "        buttonEl.style.display =\n",
              "          google.colab.kernel.accessAllowed ? 'block' : 'none';\n",
              "\n",
              "        async function convertToInteractive(key) {\n",
              "          const element = document.querySelector('#df-6085f674-abee-4ff6-8684-f8d40cbef7bf');\n",
              "          const dataTable =\n",
              "            await google.colab.kernel.invokeFunction('convertToInteractive',\n",
              "                                                     [key], {});\n",
              "          if (!dataTable) return;\n",
              "\n",
              "          const docLinkHtml = 'Like what you see? Visit the ' +\n",
              "            '<a target=\"_blank\" href=https://colab.research.google.com/notebooks/data_table.ipynb>data table notebook</a>'\n",
              "            + ' to learn more about interactive tables.';\n",
              "          element.innerHTML = '';\n",
              "          dataTable['output_type'] = 'display_data';\n",
              "          await google.colab.output.renderOutput(dataTable, element);\n",
              "          const docLink = document.createElement('div');\n",
              "          docLink.innerHTML = docLinkHtml;\n",
              "          element.appendChild(docLink);\n",
              "        }\n",
              "      </script>\n",
              "    </div>\n",
              "  </div>\n",
              "  "
            ]
          },
          "metadata": {},
          "execution_count": 236
        }
      ]
    },
    {
      "cell_type": "code",
      "source": [],
      "metadata": {
        "id": "Bb-2s5dOfC5F"
      },
      "execution_count": null,
      "outputs": []
    }
  ]
}